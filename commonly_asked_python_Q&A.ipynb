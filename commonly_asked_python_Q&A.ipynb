{
 "cells": [
  {
   "cell_type": "markdown",
   "metadata": {},
   "source": [
    "### 1. Fibinocci series"
   ]
  },
  {
   "cell_type": "markdown",
   "metadata": {},
   "source": [
    "##### The Fibonacci numbers are the numbers in the following integer sequence.\n",
    "0, 1, 1, 2, 3, 5, 8, 13, 21, 34, 55, 89, 144, ……..\n",
    "\n",
    "In mathematical terms, the sequence Fn of Fibonacci numbers is defined by the recurrence relation`3"
   ]
  },
  {
   "cell_type": "code",
   "execution_count": 98,
   "metadata": {},
   "outputs": [],
   "source": [
    "def fibinocci(n):\n",
    "    if n == 1:\n",
    "        return 0\n",
    "    elif n == 2:\n",
    "        return 1\n",
    "    elif n <= 0:\n",
    "        print('incorrect number')\n",
    "    else:\n",
    "        return fibinocci(n-1) + fibinocci(n-2)"
   ]
  },
  {
   "cell_type": "code",
   "execution_count": 34,
   "metadata": {},
   "outputs": [
    {
     "name": "stdout",
     "output_type": "stream",
     "text": [
      "2\n"
     ]
    }
   ],
   "source": [
    "print(fibinocci(4))"
   ]
  },
  {
   "cell_type": "markdown",
   "metadata": {},
   "source": [
    "### 2. Best Time to Buy and Sell Stock II"
   ]
  },
  {
   "cell_type": "markdown",
   "metadata": {},
   "source": [
    "Say you have an array prices for which the ith element is the price of a given stock on day i.\n",
    "\n",
    "Design an algorithm to find the maximum profit. You may complete as many transactions as you like (i.e., buy one and sell one share of the stock multiple times).\n",
    "\n",
    "Note: You may not engage in multiple transactions at the same time (i.e., you must sell the stock before you buy again).\n",
    "\n",
    "Input: [7,1,5,3,6,4]\n",
    "\n",
    "Output: 7\n",
    "\n",
    "Explanation: Buy on day 2 (price = 1) and sell on day 3 (price = 5), profit = 5-1 = 4.\n",
    "\n",
    "             Then buy on day 4 (price = 3) and sell on day 5 (price = 6), profit = 6-3 = 3."
   ]
  },
  {
   "cell_type": "code",
   "execution_count": 75,
   "metadata": {},
   "outputs": [],
   "source": [
    "def maxProfit(prices):\n",
    "    \"\"\"\n",
    "    :type prices: List[int]\n",
    "    :rtype: int\n",
    "    \"\"\"\n",
    "    return sum([y - x for x, y in zip(prices[:-1], prices[1:]) if x < y])"
   ]
  },
  {
   "cell_type": "code",
   "execution_count": 79,
   "metadata": {},
   "outputs": [
    {
     "data": {
      "text/plain": [
       "9"
      ]
     },
     "execution_count": 79,
     "metadata": {},
     "output_type": "execute_result"
    }
   ],
   "source": [
    "maxProfit([1,7,10,9,5])"
   ]
  },
  {
   "cell_type": "markdown",
   "metadata": {},
   "source": [
    "### 3. Best time to buy and sell for one transaction"
   ]
  },
  {
   "cell_type": "markdown",
   "metadata": {},
   "source": [
    "You are given an array for which the ith element is the price of a given stock on day i. If you were only permitted to complete at most one transaction (i.e., buy one and sell one share of the stock), design an algorithm to find which days to buy and sell on for the maximum profit. Note that you cannot sell a stock before you buy one.\n",
    "\n",
    "Example Input: [10, 1, 5, 3, 8, 4]\n",
    "\n",
    "Output: (2, 5, 7) # Buy day 2, sell day 5, profit is 7\n",
    "\n",
    "Explanation: Buy on day 2 (price = 1) and sell on day 5 (price = 8), profit = 8-1 = 7. Not 10-1 = 9, as selling price needs to be larger than the buying price."
   ]
  },
  {
   "cell_type": "code",
   "execution_count": 95,
   "metadata": {},
   "outputs": [],
   "source": [
    "def maxProfitOneTrans(prices):\n",
    "    \"\"\"\n",
    "    :type prices: List[int]\n",
    "    :rtype: int\n",
    "    \"\"\"\n",
    "    max_profit, min_price = (0, float('inf'))\n",
    "    for i, price in enumerate(prices):\n",
    "        min_price = min(price, min_price)\n",
    "        if min_price == price:\n",
    "            min_index = i + 1\n",
    "        profit = price - min_price\n",
    "        max_profit = max(profit, max_profit)\n",
    "        if max_profit == profit:\n",
    "            max_index = i + 1\n",
    "    return min_index, max_index, max_profit"
   ]
  },
  {
   "cell_type": "code",
   "execution_count": 97,
   "metadata": {},
   "outputs": [
    {
     "data": {
      "text/plain": [
       "(2, 5, 7)"
      ]
     },
     "execution_count": 97,
     "metadata": {},
     "output_type": "execute_result"
    }
   ],
   "source": [
    "maxProfitOneTrans( [10, 1, 5, 3, 8, 4])"
   ]
  },
  {
   "cell_type": "markdown",
   "metadata": {},
   "source": [
    "### 4. Rotate Array"
   ]
  },
  {
   "cell_type": "markdown",
   "metadata": {},
   "source": [
    "Given an array, rotate the array to the right by k steps, where k is non-negative.\n",
    "\n",
    "Follow up:\n",
    "\n",
    "Try to come up as many solutions as you can, there are at least 3 different ways to solve this problem.\n",
    "Could you do it in-place with O(1) extra space?\n",
    "\n",
    "Example 1:\n",
    "\n",
    "Input: nums = [1,2,3,4,5,6,7], k = 3\n",
    "\n",
    "Output: [5,6,7,1,2,3,4]\n",
    "\n",
    "Explanation:\n",
    "\n",
    "rotate 1 steps to the right: [7,1,2,3,4,5,6]\n",
    "\n",
    "rotate 2 steps to the right: [6,7,1,2,3,4,5]\n",
    "\n",
    "rotate 3 steps to the right: [5,6,7,1,2,3,4]"
   ]
  },
  {
   "cell_type": "code",
   "execution_count": 143,
   "metadata": {},
   "outputs": [],
   "source": [
    "def rotate(nums, k):\n",
    "    while k > 0:\n",
    "        nums.insert(0, nums.pop())\n",
    "        k -= 1\n",
    "    return nums"
   ]
  },
  {
   "cell_type": "code",
   "execution_count": 144,
   "metadata": {},
   "outputs": [
    {
     "data": {
      "text/plain": [
       "[5, 6, 7, 1, 2, 3, 4]"
      ]
     },
     "execution_count": 144,
     "metadata": {},
     "output_type": "execute_result"
    }
   ],
   "source": [
    "rotate([1,2,3,4,5,6,7], 3)"
   ]
  },
  {
   "cell_type": "markdown",
   "metadata": {},
   "source": [
    "### 5. Two Sum"
   ]
  },
  {
   "cell_type": "markdown",
   "metadata": {},
   "source": [
    "Given an array of integers, return indices of the two numbers such that they add up to a specific target.\n",
    "\n",
    "You may assume that each input would have exactly one solution, and you may not use the same element twice.\n",
    "\n",
    "Example:\n",
    "\n",
    "Given nums = [2, 7, 11, 15], target = 9,\n",
    "\n",
    "Because nums[0] + nums[1] = 2 + 7 = 9,\n",
    "\n",
    "return [0, 1]."
   ]
  },
  {
   "cell_type": "code",
   "execution_count": 145,
   "metadata": {},
   "outputs": [],
   "source": [
    "def two_sum(ls_nums, target):\n",
    "    for idx_i, i in enumerate(ls_nums):\n",
    "        for idx_j, j in enumerate(ls_nums[idx_i+1:]):\n",
    "            if (i + j) == target:\n",
    "                return(idx_i, idx_j+idx_i+1)"
   ]
  },
  {
   "cell_type": "code",
   "execution_count": 146,
   "metadata": {},
   "outputs": [
    {
     "data": {
      "text/plain": [
       "(3, 4)"
      ]
     },
     "execution_count": 146,
     "metadata": {},
     "output_type": "execute_result"
    }
   ],
   "source": [
    "two_sum([1, 4, 15, 2, 7], 9)"
   ]
  },
  {
   "cell_type": "markdown",
   "metadata": {},
   "source": [
    "### 6. Move Zeroes"
   ]
  },
  {
   "cell_type": "markdown",
   "metadata": {},
   "source": [
    "Given an array nums, write a function to move all 0's to the end of it while maintaining the relative order of the non-zero elements.\n",
    "\n",
    "Input: [0,1,0,3,12]\n",
    "    \n",
    "Output: [1,3,12,0,0]"
   ]
  },
  {
   "cell_type": "code",
   "execution_count": 34,
   "metadata": {},
   "outputs": [],
   "source": [
    "def move_zeroes(nums):\n",
    "    len_nums = len(nums)\n",
    "    nums = [i for i in nums if i!=0]\n",
    "    nums.extend([0]*(len_nums - len(nums)))\n",
    "    print(nums)"
   ]
  },
  {
   "cell_type": "code",
   "execution_count": 35,
   "metadata": {},
   "outputs": [
    {
     "name": "stdout",
     "output_type": "stream",
     "text": [
      "[1, 3, 12, 0, 0]\n"
     ]
    }
   ],
   "source": [
    "move_zeroes([0,1,0,3,12])"
   ]
  },
  {
   "cell_type": "markdown",
   "metadata": {},
   "source": [
    "### 7. Trap water"
   ]
  },
  {
   "cell_type": "markdown",
   "metadata": {},
   "source": [
    "Given n non-negative integers representing an elevation map where the width of each bar is 1, compute how much water it is able to trap after raining.\n",
    "\n"
   ]
  },
  {
   "cell_type": "code",
   "execution_count": 86,
   "metadata": {},
   "outputs": [
    {
     "data": {
      "application/javascript": [
       "\n",
       "        if (window._pyforest_update_imports_cell) { window._pyforest_update_imports_cell('import pandas as pd'); }\n",
       "    "
      ],
      "text/plain": [
       "<IPython.core.display.Javascript object>"
      ]
     },
     "metadata": {},
     "output_type": "display_data"
    },
    {
     "data": {
      "text/plain": [
       "<AxesSubplot:>"
      ]
     },
     "execution_count": 86,
     "metadata": {},
     "output_type": "execute_result"
    },
    {
     "data": {
      "image/png": "[encoded data removed]",
      "text/plain": [
       "<Figure size 432x288 with 1 Axes>"
      ]
     },
     "metadata": {
      "needs_background": "light"
     },
     "output_type": "display_data"
    }
   ],
   "source": [
    "pd.DataFrame([0,1,0,2,1,0,1,3,2,1,2,1]).plot(kind='bar')"
   ]
  },
  {
   "cell_type": "code",
   "execution_count": 83,
   "metadata": {},
   "outputs": [],
   "source": [
    "def trap(height):\n",
    "    left = 0\n",
    "    waterlevel = []\n",
    "    for i in height:\n",
    "        left = max(left, i)\n",
    "        waterlevel+=[left]\n",
    "    right = 0\n",
    "    for idx, j in reversed(list(enumerate(height))):\n",
    "        right = max(right, j)\n",
    "        waterlevel[idx] = min(waterlevel[idx], right) - j\n",
    "    return sum(waterlevel)"
   ]
  },
  {
   "cell_type": "code",
   "execution_count": 87,
   "metadata": {},
   "outputs": [
    {
     "data": {
      "text/plain": [
       "6"
      ]
     },
     "execution_count": 87,
     "metadata": {},
     "output_type": "execute_result"
    }
   ],
   "source": [
    "trap([0,1,0,2,1,0,1,3,2,1,2,1])"
   ]
  },
  {
   "cell_type": "markdown",
   "metadata": {},
   "source": [
    "## Strings"
   ]
  },
  {
   "cell_type": "markdown",
   "metadata": {},
   "source": [
    "## 1. Write a function that reverses a string.\n",
    "\n",
    "The input string is given as an array of characters char[].\n",
    "\n",
    "Do not allocate extra space for another array, you must do this by modifying the input array in-place with O(1) extra memory.\n",
    "\n",
    "You may assume all the characters consist of printable ascii characters.\n",
    "\n",
    "Input: [\"h\",\"e\",\"l\",\"l\",\"o\"]\n",
    "\n",
    "Output: [\"o\",\"l\",\"l\",\"e\",\"h\"]"
   ]
  },
  {
   "cell_type": "code",
   "execution_count": 24,
   "metadata": {},
   "outputs": [],
   "source": [
    "def reverse(s):\n",
    "    left, right = 0, len(s)-1\n",
    "    \n",
    "    while left < right:\n",
    "        s[left], s[right] = s[right], s[left]\n",
    "        left+=1\n",
    "        right-=1\n",
    "        \n",
    "    return s"
   ]
  },
  {
   "cell_type": "code",
   "execution_count": 88,
   "metadata": {},
   "outputs": [],
   "source": [
    "word = [\"H\",\"a\",\"n\",\"n\",\"a\",\"h\"]"
   ]
  },
  {
   "cell_type": "code",
   "execution_count": 110,
   "metadata": {},
   "outputs": [],
   "source": [
    "d1 = {'a':1, 'b':2} \n",
    "d2 = {'b':2, 'a':1}"
   ]
  },
  {
   "cell_type": "code",
   "execution_count": 111,
   "metadata": {},
   "outputs": [
    {
     "data": {
      "text/plain": [
       "True"
      ]
     },
     "execution_count": 111,
     "metadata": {},
     "output_type": "execute_result"
    }
   ],
   "source": [
    "d1 == d2"
   ]
  },
  {
   "cell_type": "code",
   "execution_count": 26,
   "metadata": {},
   "outputs": [
    {
     "data": {
      "text/plain": [
       "['h', 'a', 'n', 'n', 'a', 'H']"
      ]
     },
     "execution_count": 26,
     "metadata": {},
     "output_type": "execute_result"
    }
   ],
   "source": [
    "reverse(list(word))"
   ]
  },
  {
   "cell_type": "markdown",
   "metadata": {},
   "source": [
    "### 2. Given a 32-bit signed integer, reverse digits of an integer."
   ]
  },
  {
   "cell_type": "markdown",
   "metadata": {},
   "source": [
    "Input: -123\n",
    "\n",
    "Output: -321"
   ]
  },
  {
   "cell_type": "code",
   "execution_count": 41,
   "metadata": {},
   "outputs": [],
   "source": [
    "def rev_int(x):\n",
    "    result = int(str(x)[::-1]) if x>0 else -int(str(x)[1:][::-1])\n",
    "    if result -2**31 < result < 2**31:\n",
    "        return result\n",
    "    else:\n",
    "        return 0"
   ]
  },
  {
   "cell_type": "code",
   "execution_count": 42,
   "metadata": {},
   "outputs": [
    {
     "data": {
      "text/plain": [
       "-321"
      ]
     },
     "execution_count": 42,
     "metadata": {},
     "output_type": "execute_result"
    }
   ],
   "source": [
    "rev_int(-123)"
   ]
  },
  {
   "cell_type": "markdown",
   "metadata": {},
   "source": [
    "### 3 . Given a string, find the first non-repeating character in it and return its index. If it doesn't exist, return -1."
   ]
  },
  {
   "cell_type": "code",
   "execution_count": 3,
   "metadata": {},
   "outputs": [],
   "source": [
    "from collections import Counter"
   ]
  },
  {
   "cell_type": "code",
   "execution_count": 4,
   "metadata": {},
   "outputs": [],
   "source": [
    "def find_unique_char(word):\n",
    "    cnt = Counter(word)\n",
    "    for idx, letter in enumerate(list(word)):\n",
    "        if cnt[letter] == 1:\n",
    "            return idx\n",
    "    return -1"
   ]
  },
  {
   "cell_type": "code",
   "execution_count": 5,
   "metadata": {},
   "outputs": [],
   "source": [
    "s = \"malayalam\""
   ]
  },
  {
   "cell_type": "code",
   "execution_count": 6,
   "metadata": {},
   "outputs": [
    {
     "data": {
      "text/plain": [
       "4"
      ]
     },
     "execution_count": 6,
     "metadata": {},
     "output_type": "execute_result"
    }
   ],
   "source": [
    "find_unique_char(s)"
   ]
  },
  {
   "cell_type": "markdown",
   "metadata": {},
   "source": [
    "### 4. Find All Anagrams in a String"
   ]
  },
  {
   "cell_type": "markdown",
   "metadata": {},
   "source": [
    "Given a string s and a non-empty string p, find all the start indices of p's anagrams in s.\n",
    "\n",
    "Strings consists of lowercase English letters only and the length of both strings s and p will not be larger than 20,100.\n",
    "\n",
    "The order of output does not matter.\n",
    "\n",
    "Example 1:\n",
    "    \n",
    "Input:\n",
    "    \n",
    "s: \"cbaebabacd\" p: \"abc\"\n",
    "\n",
    "Output:\n",
    "    \n",
    "[0, 6]"
   ]
  },
  {
   "cell_type": "code",
   "execution_count": 117,
   "metadata": {},
   "outputs": [],
   "source": [
    "import collections\n",
    "def findAnagrams(s: str, p: str):        \n",
    "    myDictP=collections.Counter(p)\n",
    "    myDictS=collections.Counter(s[:len(p)])\n",
    "    output=[]\n",
    "    i=0\n",
    "    j=len(p)\n",
    "\n",
    "    while j<=len(s):\n",
    "        if myDictS==myDictP:\n",
    "            output.append(i)\n",
    "        myDictS[s[i]]-=1        #subtract the count of firs element as the slider moves\n",
    "        if myDictS[s[i]]<=0:    #if the count of letter is 0 them remove it from the dictionary\n",
    "            myDictS.pop(s[i])\n",
    "\n",
    "        if j<len(s):                \n",
    "             myDictS[s[j]]+=1  #adds the new element\n",
    "        j+=1\n",
    "        i+=1 \n",
    "    return output  "
   ]
  },
  {
   "cell_type": "code",
   "execution_count": 118,
   "metadata": {},
   "outputs": [
    {
     "data": {
      "text/plain": [
       "[0, 1, 2]"
      ]
     },
     "execution_count": 118,
     "metadata": {},
     "output_type": "execute_result"
    }
   ],
   "source": [
    "findAnagrams(s='abab', p='ab')"
   ]
  },
  {
   "cell_type": "markdown",
   "metadata": {},
   "source": [
    "### 4. Given two strings s and t , write a function to determine if t is an anagram of s."
   ]
  },
  {
   "cell_type": "markdown",
   "metadata": {},
   "source": [
    "Input: s = \"anagram\", t = \"nagaram\"\n",
    "    \n",
    "Output: true"
   ]
  },
  {
   "cell_type": "code",
   "execution_count": 137,
   "metadata": {},
   "outputs": [],
   "source": [
    "def valid_anagram(s, t):\n",
    "    return Counter(s) == Counter(t)"
   ]
  },
  {
   "cell_type": "code",
   "execution_count": 141,
   "metadata": {},
   "outputs": [
    {
     "data": {
      "text/plain": [
       "True"
      ]
     },
     "execution_count": 141,
     "metadata": {},
     "output_type": "execute_result"
    }
   ],
   "source": [
    "valid_anagram('abc', 'bac')"
   ]
  },
  {
   "cell_type": "code",
   "execution_count": null,
   "metadata": {},
   "outputs": [],
   "source": []
  }
 ],
 "metadata": {
  "kernelspec": {
   "display_name": "Python 3",
   "language": "python",
   "name": "python3"
  },
  "language_info": {
   "codemirror_mode": {
    "name": "ipython",
    "version": 3
   },
   "file_extension": ".py",
   "mimetype": "text/x-python",
   "name": "python",
   "nbconvert_exporter": "python",
   "pygments_lexer": "ipython3",
   "version": "3.7.6"
  }
 },
 "nbformat": 4,
 "nbformat_minor": 4
}
