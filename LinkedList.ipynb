{
 "cells": [
  {
   "cell_type": "markdown",
   "metadata": {},
   "source": [
    "There isn't a built-in data structure in Python that looks like a linked list. Thankfully, it's easy to make classes that represent data structures in Python!\n",
    "\n",
    "Here's the code for an Node, which will be a single unit in a linked list:"
   ]
  },
  {
   "cell_type": "code",
   "execution_count": 19,
   "metadata": {},
   "outputs": [],
   "source": [
    "class Node(object):\n",
    "    def __init__(self, value):\n",
    "        self.value = value\n",
    "        self.next = None\n",
    "    \n",
    "class LinkedList(object):\n",
    "    def __init__(self, head=None):\n",
    "        self.head = head\n",
    "\n",
    "    def deleteNode(self, node):\n",
    "        if node == None:\n",
    "            return None     \n",
    "        if node.next:\n",
    "            node.value = node.next.value\n",
    "            node.next = node.next.next\n",
    "        return\n",
    "    \n",
    "    def append(self, new_node):\n",
    "        current = self.head\n",
    "        if self.head:\n",
    "            while current.next:\n",
    "                current = current.next\n",
    "            current.next = new_node\n",
    "        else:\n",
    "            self.head = new_node\n",
    "            \n",
    "    def reverse_list(self, head):\n",
    "        prev = None\n",
    "        curr = head \n",
    "        while curr:\n",
    "            tmp = curr.next \n",
    "            curr.next = prev\n",
    "            prev = curr\n",
    "            curr = tmp\n",
    "        self.head = prev\n",
    "\n",
    "    def traversal(self, head):\n",
    "        while head:\n",
    "            print(head.value)\n",
    "            head = head.next\n",
    "            \n",
    "    def __repr__(self):\n",
    "        node = self.head\n",
    "        nodes = []\n",
    "        while node is not None:\n",
    "            nodes.append(node.value)\n",
    "            node = node.next\n",
    "        nodes.append('None')\n",
    "        return \" -> \".join(map(str, nodes))"
   ]
  },
  {
   "cell_type": "code",
   "execution_count": 20,
   "metadata": {},
   "outputs": [],
   "source": [
    "llist = LinkedList()\n",
    "llist.head = Node(1) "
   ]
  },
  {
   "cell_type": "code",
   "execution_count": 21,
   "metadata": {},
   "outputs": [],
   "source": [
    "second = Node(2) \n",
    "third = Node(3)\n",
    "fourth = Node(4)\n",
    "llist.head.next = second\n",
    "second.next = third"
   ]
  },
  {
   "cell_type": "code",
   "execution_count": 22,
   "metadata": {},
   "outputs": [
    {
     "data": {
      "text/plain": [
       "1 -> 3 -> None"
      ]
     },
     "execution_count": 22,
     "metadata": {},
     "output_type": "execute_result"
    }
   ],
   "source": [
    "llist.deleteNode(second)\n",
    "llist"
   ]
  },
  {
   "cell_type": "code",
   "execution_count": 23,
   "metadata": {},
   "outputs": [
    {
     "data": {
      "text/plain": [
       "1 -> 3 -> 4 -> None"
      ]
     },
     "execution_count": 23,
     "metadata": {},
     "output_type": "execute_result"
    }
   ],
   "source": [
    "llist.append(fourth)\n",
    "llist"
   ]
  },
  {
   "cell_type": "code",
   "execution_count": 24,
   "metadata": {},
   "outputs": [
    {
     "data": {
      "text/plain": [
       "4 -> 3 -> 1 -> None"
      ]
     },
     "execution_count": 24,
     "metadata": {},
     "output_type": "execute_result"
    }
   ],
   "source": [
    "llist.reverse_list(llist.head)\n",
    "llist"
   ]
  },
  {
   "cell_type": "code",
   "execution_count": null,
   "metadata": {},
   "outputs": [],
   "source": []
  }
 ],
 "metadata": {
  "kernelspec": {
   "display_name": "Python 3",
   "language": "python",
   "name": "python3"
  },
  "language_info": {
   "codemirror_mode": {
    "name": "ipython",
    "version": 3
   },
   "file_extension": ".py",
   "mimetype": "text/x-python",
   "name": "python",
   "nbconvert_exporter": "python",
   "pygments_lexer": "ipython3",
   "version": "3.7.6"
  }
 },
 "nbformat": 4,
 "nbformat_minor": 4
}
