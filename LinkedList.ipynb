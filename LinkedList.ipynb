{
 "cells": [
  {
   "cell_type": "markdown",
   "metadata": {},
   "source": [
    "# Singly Linked List"
   ]
  },
  {
   "cell_type": "code",
   "execution_count": 196,
   "metadata": {},
   "outputs": [],
   "source": [
    "class Node(object):\n",
    "    def __init__(self, value):\n",
    "        self.value = value\n",
    "        self.next = None\n",
    "    \n",
    "class LinkedList(object):\n",
    "    def __init__(self, head=None):\n",
    "        self.head = head\n",
    "\n",
    "    def deleteNode(self, node):\n",
    "        head = self.head\n",
    "        if node.next:\n",
    "            node.value = node.next.value\n",
    "            node.next = node.next.next\n",
    "        else:\n",
    "            while head.next:\n",
    "                curr = head\n",
    "                head = head.next\n",
    "            node = None\n",
    "            curr.next = node\n",
    "    \n",
    "    def append(self, new_node):\n",
    "        current = self.head\n",
    "        if self.head:\n",
    "            while current.next:\n",
    "                current = current.next\n",
    "            current.next = new_node\n",
    "        else:\n",
    "            self.head = new_node\n",
    "            \n",
    "    def reverse_list(self, head):\n",
    "        prev = None\n",
    "        curr = head \n",
    "        while curr:\n",
    "            tmp = curr.next \n",
    "            curr.next = prev\n",
    "            prev = curr\n",
    "            curr = tmp\n",
    "        self.head = prev\n",
    "\n",
    "    def traversal(self, head):\n",
    "        while head:\n",
    "            print(head.value)\n",
    "            head = head.next\n",
    "\n",
    "    def removeNthFromEnd(self, head, n: int):\n",
    "        def helper(head):\n",
    "            if head is None:\n",
    "                return 0\n",
    "            else:\n",
    "                cnt = helper(head.next) + 1\n",
    "                if cnt > n:\n",
    "                    head.next.value = head.value                \n",
    "                return cnt\n",
    "        helper(head)\n",
    "        self.head =  head.next\n",
    "\n",
    "    def __repr__(self):\n",
    "        node = self.head\n",
    "        nodes = []\n",
    "        while node is not None:\n",
    "            nodes.append(node.value)\n",
    "            node = node.next\n",
    "        nodes.append('None')\n",
    "        return \" -> \".join(map(str, nodes))"
   ]
  },
  {
   "cell_type": "code",
   "execution_count": 197,
   "metadata": {},
   "outputs": [],
   "source": [
    "llist = LinkedList()\n",
    "llist.head = Node(1) "
   ]
  },
  {
   "cell_type": "code",
   "execution_count": 198,
   "metadata": {},
   "outputs": [],
   "source": [
    "second = Node(2) \n",
    "third = Node(3)\n",
    "fourth = Node(4)\n",
    "llist.head.next = second\n",
    "second.next = third"
   ]
  },
  {
   "cell_type": "code",
   "execution_count": 199,
   "metadata": {},
   "outputs": [
    {
     "output_type": "execute_result",
     "data": {
      "text/plain": "1 -> 2 -> 3 -> None"
     },
     "metadata": {},
     "execution_count": 199
    }
   ],
   "source": [
    "llist"
   ]
  },
  {
   "cell_type": "markdown",
   "metadata": {},
   "source": [
    "## Remove Nth From the End"
   ]
  },
  {
   "cell_type": "code",
   "execution_count": 200,
   "metadata": {},
   "outputs": [],
   "source": [
    "llist.removeNthFromEnd(llist.head, n=1)"
   ]
  },
  {
   "cell_type": "code",
   "execution_count": 201,
   "metadata": {},
   "outputs": [
    {
     "output_type": "execute_result",
     "data": {
      "text/plain": "1 -> 2 -> None"
     },
     "metadata": {},
     "execution_count": 201
    }
   ],
   "source": [
    "llist"
   ]
  },
  {
   "cell_type": "markdown",
   "metadata": {},
   "source": [
    "## Delete Node"
   ]
  },
  {
   "cell_type": "code",
   "execution_count": 202,
   "metadata": {},
   "outputs": [
    {
     "output_type": "execute_result",
     "data": {
      "text/plain": "2 -> None"
     },
     "metadata": {},
     "execution_count": 202
    }
   ],
   "source": [
    "llist.deleteNode(second)\n",
    "llist"
   ]
  },
  {
   "cell_type": "markdown",
   "metadata": {},
   "source": [
    "## Append Node"
   ]
  },
  {
   "cell_type": "code",
   "execution_count": 203,
   "metadata": {},
   "outputs": [
    {
     "output_type": "execute_result",
     "data": {
      "text/plain": "2 -> 4 -> None"
     },
     "metadata": {},
     "execution_count": 203
    }
   ],
   "source": [
    "llist.append(fourth)\n",
    "llist"
   ]
  },
  {
   "cell_type": "code",
   "execution_count": 204,
   "metadata": {},
   "outputs": [
    {
     "output_type": "execute_result",
     "data": {
      "text/plain": "2 -> None"
     },
     "metadata": {},
     "execution_count": 204
    }
   ],
   "source": [
    "llist.deleteNode(fourth)\n",
    "llist"
   ]
  },
  {
   "cell_type": "code",
   "execution_count": 205,
   "metadata": {},
   "outputs": [],
   "source": [
    "fifth = Node(5)"
   ]
  },
  {
   "cell_type": "code",
   "execution_count": 206,
   "metadata": {},
   "outputs": [],
   "source": [
    "llist.append(fifth)"
   ]
  },
  {
   "cell_type": "code",
   "execution_count": 207,
   "metadata": {},
   "outputs": [
    {
     "output_type": "execute_result",
     "data": {
      "text/plain": "2 -> 5 -> None"
     },
     "metadata": {},
     "execution_count": 207
    }
   ],
   "source": [
    "llist"
   ]
  },
  {
   "cell_type": "markdown",
   "metadata": {},
   "source": [
    "## Reverse List"
   ]
  },
  {
   "cell_type": "code",
   "execution_count": 208,
   "metadata": {},
   "outputs": [],
   "source": [
    "llist.reverse_list(llist.head)"
   ]
  },
  {
   "cell_type": "code",
   "execution_count": 209,
   "metadata": {},
   "outputs": [
    {
     "output_type": "execute_result",
     "data": {
      "text/plain": "5 -> 2 -> None"
     },
     "metadata": {},
     "execution_count": 209
    }
   ],
   "source": [
    "llist"
   ]
  },
  {
   "cell_type": "code",
   "execution_count": null,
   "metadata": {},
   "outputs": [],
   "source": []
  }
 ],
 "metadata": {
  "kernelspec": {
   "display_name": "Python 3.7.6 64-bit ('base': conda)",
   "language": "python",
   "name": "python37664bitbasecondac0dbb9d95a27497da78ccc98a87642eb"
  },
  "language_info": {
   "codemirror_mode": {
    "name": "ipython",
    "version": 3
   },
   "file_extension": ".py",
   "mimetype": "text/x-python",
   "name": "python",
   "nbconvert_exporter": "python",
   "pygments_lexer": "ipython3",
   "version": "3.7.6-final"
  }
 },
 "nbformat": 4,
 "nbformat_minor": 4
}